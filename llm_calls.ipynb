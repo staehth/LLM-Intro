{
 "cells": [
  {
   "cell_type": "markdown",
   "metadata": {},
   "source": [
    "## Connect and compare LLMs\n",
    "\n",
    "- Connect to the grok API and choose a model\n",
    "- Connect to the Gemini API and choose a model\n",
    "- Connect to the OpenAI API and choose 4o-mini\n",
    "\n",
    "### Create a prompt and inject a little text snippet of your liking\n",
    "- The LLM should use the injected information to answer a question.\n",
    "\n",
    "### Compare the outputs\n",
    "- Use the same method for every model.\n",
    "- Do you see differences?\n",
    "\n",
    "**Tipp:** for prompt injection you can either use string concatenation or the python String formatter. "
   ]
  },
  {
   "cell_type": "code",
   "execution_count": 3,
   "metadata": {},
   "outputs": [],
   "source": [
    "from google import genai\n",
    "import os\n",
    "from dotenv import load_dotenv\n",
    "from google.genai import types\n",
    "from openai import OpenAI\n",
    "import anthropic"
   ]
  },
  {
   "cell_type": "code",
   "execution_count": 12,
   "metadata": {},
   "outputs": [],
   "source": [
    "load_dotenv()\n",
    "# Access the API key using the variable name defined in the .env file\n",
    "google_api_key = os.getenv(\"GOOGLE_API_KEY\")\n",
    "openai_api_key = os.getenv(\"OPENAI_API_KEY\")\n",
    "deepinfra_api_key = os.getenv(\"DEEPINFRA_API_KEY\")"
   ]
  },
  {
   "cell_type": "markdown",
   "metadata": {},
   "source": [
    "## Google\n",
    "\n",
    "https://ai.google.dev/gemini-api/docs/text-generation?hl=de\n",
    "examples: https://colab.research.google.com/github/google-gemini/cookbook/blob/main/quickstarts/Get_started.ipynb?hl=de#scrollTo=mIC0pLnJdI8m"
   ]
  },
  {
   "cell_type": "code",
   "execution_count": null,
   "metadata": {},
   "outputs": [],
   "source": []
  },
  {
   "cell_type": "code",
   "execution_count": null,
   "metadata": {},
   "outputs": [
    {
     "name": "stdout",
     "output_type": "stream",
     "text": [
      "That's a fantastic question, and one that many people are curious about! The truth is, \"AI\" is a very broad term, and how it \"works\" depends on what specific AI we're talking about. However, I can give you a foundational understanding of the core principles and common techniques.\n",
      "\n",
      "At its heart, **AI is about creating computer systems that can perform tasks that typically require human intelligence.**\n",
      "\n",
      "Let's break down the general process and key concepts:\n",
      "\n",
      "---\n",
      "\n",
      "## The Core Idea: Learning from Data\n",
      "\n",
      "Most modern AI, particularly the kind that has made headlines (like ChatGPT or image generators), is built on a paradigm called **Machine Learning (ML)**.\n",
      "\n",
      "Instead of being explicitly programmed with every rule and scenario (like a traditional computer program), ML models learn by being fed vast amounts of **data**.\n",
      "\n",
      "Think of it like this:\n",
      "\n",
      "*   **Traditional Programming:** You tell the computer, \"If you see a cat, output 'cat'.\" You have to define what a \"cat\" is (four legs, fur, meows, etc.) and all its variations.\n",
      "*   **Machine Learning:** You show the computer millions of images, some labeled \"cat\" and some labeled \"not cat.\" The computer then figures out *on its own* what patterns and features are associated with \"cat\" and uses that understanding to identify new cats.\n",
      "\n",
      "---\n",
      "\n",
      "## Key Steps and Components in Machine Learning\n",
      "\n",
      "### 1. Data Collection & Preparation\n",
      "\n",
      "*   **The Fuel:** This is the most crucial step. AI models are only as good as the data they learn from. This data can be text, images, audio, video, sensor readings, numbers – anything digital.\n",
      "*   **Cleaning & Labeling:** Data needs to be cleaned (removing errors, inconsistencies) and often labeled (e.g., \"this image contains a dog,\" \"this sentiment is positive\"). This labeling can be done manually by humans or, in some cases, automatically.\n",
      "\n",
      "### 2. Choosing a Model/Algorithm\n",
      "\n",
      "*   **The Brain:** This is the mathematical framework or statistical method that will learn from the data. There are many different types, each suited for different tasks:\n",
      "    *   **Neural Networks (Deep Learning):** Inspired by the human brain, these are particularly powerful for complex tasks like image recognition, natural language processing, and speech. They consist of layers of interconnected \"neurons.\"\n",
      "    *   **Decision Trees:** Good for classification and regression tasks, creating a tree-like model of decisions.\n",
      "    *   **Support Vector Machines (SVMs):** Used for classification, finding the best boundary between different data points.\n",
      "    *   **Regression Models:** For predicting continuous values (e.g., house prices).\n",
      "    *   ...and many more!\n",
      "\n",
      "### 3. Training the Model\n",
      "\n",
      "*   **The Learning Phase:** This is where the magic happens.\n",
      "    1.  **Input Data:** The model is fed the prepared data.\n",
      "    2.  **Make a Prediction:** Based on its current (untrained) state, the model makes a guess.\n",
      "    3.  **Compare & Calculate Error:** The model's prediction is compared to the *actual* correct label in the training data. The difference is the \"error\" or \"loss.\"\n",
      "    4.  **Adjust Parameters (Weights & Biases):** This is the core learning mechanism. The model uses mathematical techniques (like **gradient descent**) to slightly adjust its internal parameters (think of them as knobs and dials) in a way that would have reduced the error on that particular piece of data.\n",
      "    5.  **Repeat Billions of Times:** This process is repeated for millions or billions of data points, iteratively refining the model's internal parameters until it becomes very good at making accurate predictions on the training data.\n",
      "\n",
      "### 4. Evaluation\n",
      "\n",
      "*   **Testing Its Knowledge:** After training, the model is tested on a *separate* set of data it has never seen before (the \"test set\"). This is crucial to ensure the model has genuinely learned patterns and hasn't just memorized the training data (a phenomenon called \"overfitting\").\n",
      "*   **Metrics:** Performance is measured using various metrics like accuracy, precision, recall, F1-score, etc., depending on the task.\n",
      "\n",
      "### 5. Deployment & Inference\n",
      "\n",
      "*   **Putting it to Work:** Once the model is trained and evaluated, it can be deployed into real-world applications.\n",
      "*   **Inference:** When the deployed model receives new, unseen data, it uses its learned patterns to make predictions or decisions. This is called \"inference.\" (e.g., you upload an image, and the AI infers it's a cat).\n",
      "\n",
      "---\n",
      "\n",
      "## Deep Learning: A Powerful Subset of Machine Learning\n",
      "\n",
      "**Deep Learning** uses **Neural Networks** with many layers (hence \"deep\"). The \"deepness\" allows them to learn very complex, hierarchical features from raw data.\n",
      "\n",
      "*   **Image Recognition:** Lower layers might detect edges, then curves, then shapes, then objects.\n",
      "*   **Language Models:** Lower layers might detect individual words, then phrases, then sentence structure, then meaning.\n",
      "\n",
      "**Transformers** are a specific type of neural network architecture that have revolutionized Natural Language Processing (NLP) and are behind models like ChatGPT. They are particularly good at understanding the context of words in a sequence.\n",
      "\n",
      "---\n",
      "\n",
      "## Different Types of Learning\n",
      "\n",
      "*   **Supervised Learning:** Most common. The model learns from labeled data (e.g., images labeled \"cat\" or \"dog\").\n",
      "*   **Unsupervised Learning:** The model finds patterns in unlabeled data (e.g., clustering similar documents together without being told what the clusters should be).\n",
      "*   **Reinforcement Learning:** The model learns by trial and error, receiving rewards or penalties for its actions in an environment (e.g., an AI learning to play chess or control a robot).\n",
      "\n",
      "---\n",
      "\n",
      "## What AI is NOT (Yet)\n",
      "\n",
      "*   **Consciousness/Sentience:** Current AI systems do not possess consciousness, emotions, or self-awareness in the human sense. They are complex pattern-matching machines.\n",
      "*   **General Intelligence (AGI):** While impressive at specific tasks, today's AI is \"narrow AI.\" It excels at what it was trained for (e.g., playing Go, writing text). It cannot easily transfer knowledge between domains like humans can (a chess AI can't suddenly cook dinner). AGI, which aims for human-level cognitive abilities across many tasks, is still a theoretical goal.\n",
      "\n",
      "---\n",
      "\n",
      "## In Summary:\n",
      "\n",
      "AI, especially modern AI, mostly works by **learning from massive amounts of data**. It identifies complex patterns and relationships in that data that allow it to make predictions, classifications, or generate new content, all without being explicitly programmed for every single scenario. The more data and the more sophisticated the learning algorithm (like deep neural networks), the more powerful and seemingly \"intelligent\" the AI can become for its specific task.\n"
     ]
    }
   ],
   "source": [
    "from google import genai\n",
    "from google.genai import types\n",
    "\n",
    "client = genai.Client()\n",
    "\n",
    "response = client.models.generate_content(\n",
    "    model=\"gemini-2.5-flash\",\n",
    "    contents=\"How does AI work?\",\n",
    "    config=types.GenerateContentConfig(\n",
    "        thinking_config=types.ThinkingConfig(thinking_budget=0) # Disables thinking\n",
    "    ),\n",
    ")\n",
    "print(response.text)"
   ]
  },
  {
   "cell_type": "markdown",
   "metadata": {},
   "source": [
    "# Openai\n",
    "https://platform.openai.com/docs/guides/text"
   ]
  },
  {
   "cell_type": "code",
   "execution_count": 9,
   "metadata": {},
   "outputs": [
    {
     "name": "stdout",
     "output_type": "stream",
     "text": [
      "Short answer: AI systems learn patterns from data and use those patterns to make predictions, decisions, or generate content.\n",
      "\n",
      "Slightly longer answer:\n",
      "- Two broad approaches\n",
      "  - Rules/symbolic AI: people hand-write rules. Good for well-defined logic, brittle in the real world.\n",
      "  - Machine learning (most modern AI): the system learns rules from examples. Includes supervised, unsupervised, and reinforcement learning.\n",
      "\n",
      "- Core ML workflow\n",
      "  1. Data: collect and clean examples (and labels if supervised).\n",
      "  2. Model: choose a function class (e.g., decision trees, neural networks).\n",
      "  3. Objective: define what “good” means (loss function).\n",
      "  4. Training: adjust model parameters to minimize loss on training data (often via gradient descent/backpropagation).\n",
      "  5. Validation: tune and stop to avoid overfitting; test on unseen data.\n",
      "  6. Deployment and monitoring: run the model on new inputs (inference) and watch for drift.\n",
      "\n",
      "- Deep learning specifics\n",
      "  - Neural networks are layered functions that turn inputs into useful internal representations (“features”).\n",
      "  - Architectures: CNNs for images, RNNs for sequences, Transformers for sequences and multimodal data.\n",
      "  - Training uses large datasets and parallel hardware (GPUs/TPUs).\n",
      "\n",
      "- How large language models (LLMs) work\n",
      "  - Tokenize text into pieces; learn to predict the next token from massive text corpora (self-supervised learning).\n",
      "  - Transformer with self-attention learns which parts of the context matter.\n",
      "  - After pretraining, models are fine-tuned:\n",
      "    - Supervised fine-tuning on curated prompts/answers.\n",
      "    - Reinforcement learning from human feedback (RLHF) to align behavior.\n",
      "    - Tool use and retrieval (RAG) add up-to-date knowledge or external skills.\n",
      "  - At inference, the model outputs a probability over next tokens; decoding methods (greedy, sampling, beam search) produce text.\n",
      "\n",
      "- Reinforcement learning (for decisions)\n",
      "  - An agent acts in an environment, gets rewards, and learns a policy that maximizes long-term reward (e.g., game-playing, robotics).\n",
      "\n",
      "- Example: spam filter\n",
      "  - Gather labeled emails, vectorize text, train a classifier to minimize misclassifications, validate, deploy to score new emails.\n",
      "\n",
      "- Strengths and limits\n",
      "  - Strengths: pattern recognition at scale; adapts with data; strong on perception and language.\n",
      "  - Limits: depends on data quality; can be biased; may be brittle out of distribution; LLMs can “hallucinate.”\n",
      "  - Interpretability is hard; evaluation and safety guardrails are important.\n",
      "\n",
      "Why AI works now: more data, more compute, and better algorithms (especially transformers) enable training very large models that generalize well.\n",
      "\n",
      "If you tell me the domain you care about (e.g., images, language, recommendations, robotics), I can tailor a mini deep-dive with concrete steps and tools.\n"
     ]
    }
   ],
   "source": [
    "from openai import OpenAI\n",
    "client = OpenAI()\n",
    "\n",
    "response = client.responses.create(\n",
    "    model=\"gpt-5\",\n",
    "    input=\"How does AI work?\"\n",
    ")\n",
    "\n",
    "print(response.output_text)"
   ]
  },
  {
   "cell_type": "markdown",
   "metadata": {},
   "source": [
    "# Deepinfra\n",
    "https://deepinfra.com/docs/openai_api\n",
    "\n",
    "goal: llama-3.3-70b-versatile\n"
   ]
  },
  {
   "cell_type": "code",
   "execution_count": null,
   "metadata": {},
   "outputs": [],
   "source": [
    "\n",
    "\n",
    "\n",
    "print(llm.choices[0].message.content)"
   ]
  },
  {
   "cell_type": "code",
   "execution_count": 21,
   "metadata": {},
   "outputs": [
    {
     "name": "stdout",
     "output_type": "stream",
     "text": [
      "Artificial Intelligence (AI) is a broad field that involves creating intelligent machines that can perform tasks that typically require human intelligence, such as learning, problem-solving, and decision-making. Here's a simplified explanation of how AI works:\n",
      "\n",
      "**Machine Learning**:\n",
      "AI's key component is machine learning, which involves training algorithms on large datasets to identify patterns and make predictions or take actions. There are three types of machine learning:\n",
      "\n",
      "1. **Supervised Learning**: The algorithm is trained on labeled data, where the correct output is already known. The algorithm learns to map inputs to outputs by minimizing errors.\n",
      "2. **Unsupervised Learning**: The algorithm is trained on unlabeled data, and it must find patterns or structure in the data on its own.\n",
      "3. **Reinforcement Learning**: The algorithm learns through trial and error by interacting with an environment and receiving rewards or punishments.\n",
      "\n",
      "**Neural Networks**:\n",
      "AI often uses neural networks, which are modeled after the human brain's neural connections. Neural networks are composed of layers of interconnected nodes (neurons) that process inputs and outputs. They can learn and improve over time through machine learning.\n",
      "\n",
      "**Algorithms**:\n",
      "AI algorithms are designed to perform specific tasks, such as:\n",
      "\n",
      "1. **Natural Language Processing (NLP)**: AI can understand and generate human language, enabling applications like chatbots, voice assistants, and language translation.\n",
      "2. **Computer Vision**: AI can analyze and interpret visual data from images and videos, used in applications like image recognition, facial recognition, and self-driving cars.\n",
      "3. **Robotics**: AI can control robots to perform tasks that require physical interaction, such as assembly, welding, or surgical procedures.\n",
      "\n",
      "**Data**:\n",
      "AI requires large amounts of data to train and improve its performance. This data can come from various sources, such as:\n",
      "\n",
      "1. **Structured Data**: Pre-processed data, like spreadsheets or relational databases, used for supervised learning.\n",
      "2. **Unstructured Data**: Unorganized data, like images, videos, or text, used for unsupervised learning.\n",
      "3. **Streaming Data**: Real-time data, like sensor readings or social media feeds, used for real-time analysis and decision-making.\n",
      "\n",
      "**Architecture**:\n",
      "AI systems can be designed as:\n",
      "\n",
      "1. **Monolithic Architecture**: A single, large model trained on a specific task.\n",
      "2. **Microservices Architecture**: A collection of small, specialized models trained on specific tasks and integrated as needed.\n",
      "3. **Hybrid Architecture**: A combination of monolithic and microservices architectures.\n",
      "\n",
      "**Challenges**:\n",
      "AI development faces challenges such as:\n",
      "\n",
      "1. **Explainability**: Understanding how AI models make decisions and why.\n",
      "2. **Robustness**: Ensuring AI models are robust and reliable in the face of changing data or unusual inputs.\n",
      "3. **Ethics**: Ensuring AI systems are designed with ethical considerations, such as fairness, transparency, and accountability.\n",
      "\n",
      "This is a simplified overview of AI. If you have specific questions or want to explore any of these topics further, feel free to ask!\n",
      "15 618\n"
     ]
    }
   ],
   "source": [
    "from openai import OpenAI\n",
    "\n",
    "openai = OpenAI(\n",
    "    api_key=deepinfra_api_key,\n",
    "    base_url=\"https://api.deepinfra.com/v1/openai\",\n",
    ")\n",
    "\n",
    "stream = False # or False\n",
    "\n",
    "chat_completion = openai.chat.completions.create(\n",
    "    model=\"meta-llama/Meta-Llama-3-8B-Instruct\",\n",
    "    messages=[{\"role\": \"user\", \"content\": \"How does AI work?\"}],\n",
    "    stream=stream,\n",
    ")\n",
    "\n",
    "if stream:\n",
    "    for event in chat_completion:\n",
    "        # Sicherstellen, dass usage vorhanden ist (bei Streaming-Delta-Events oft None)\n",
    "        usage = getattr(event, \"usage\", None)\n",
    "        if event.choices[0].finish_reason:\n",
    "            if usage:\n",
    "                print(\n",
    "                    event.choices[0].finish_reason,\n",
    "                    usage.prompt_tokens,\n",
    "                    usage.completion_tokens,\n",
    "                )\n",
    "            else:\n",
    "                print(event.choices[0].finish_reason)\n",
    "        else:\n",
    "            print(event.choices[0].delta.content)\n",
    "else:\n",
    "    print(chat_completion.choices[0].message.content)\n",
    "    print(chat_completion.usage.prompt_tokens, chat_completion.usage.completion_tokens)"
   ]
  },
  {
   "cell_type": "markdown",
   "metadata": {},
   "source": [
    "## Deepinfra\n",
    "https://deepinfra.com/docs/openai_api\n",
    "\n",
    "goals: \n",
    "- llama-3.3-X\n",
    "- gemma x x x\n",
    "- Qwen x x x\n",
    "- deepseek x x x"
   ]
  },
  {
   "cell_type": "code",
   "execution_count": null,
   "metadata": {},
   "outputs": [],
   "source": []
  },
  {
   "cell_type": "markdown",
   "metadata": {},
   "source": [
    "## Anthropic\n",
    "\n",
    "https://docs.claude.com/en/docs/get-started#python"
   ]
  },
  {
   "cell_type": "code",
   "execution_count": null,
   "metadata": {},
   "outputs": [],
   "source": []
  }
 ],
 "metadata": {
  "kernelspec": {
   "display_name": "Python 3",
   "language": "python",
   "name": "python3"
  },
  "language_info": {
   "codemirror_mode": {
    "name": "ipython",
    "version": 3
   },
   "file_extension": ".py",
   "mimetype": "text/x-python",
   "name": "python",
   "nbconvert_exporter": "python",
   "pygments_lexer": "ipython3",
   "version": "3.12.1"
  }
 },
 "nbformat": 4,
 "nbformat_minor": 2
}
